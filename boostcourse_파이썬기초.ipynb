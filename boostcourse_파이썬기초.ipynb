{
 "cells": [
  {
   "cell_type": "markdown",
   "id": "9bddb3ae",
   "metadata": {},
   "source": [
    "## 함수의 선언 문법"
   ]
  },
  {
   "cell_type": "markdown",
   "id": "25f5038a",
   "metadata": {},
   "source": [
    "parameter : 함수의 입력 값 인터페이스<br>\n",
    "argument: 실제 Parameter에 대입된 <br>\n",
    "\n",
    "\n",
    "def 함수 이름 (parmaeter #1,…,):<br>\n",
    "  수행문 #1(statements)<br>\n",
    "  수행문 #2(statements)<br>\n",
    "return <반환값><br>"
   ]
  },
  {
   "cell_type": "markdown",
   "id": "d1182731",
   "metadata": {},
   "source": [
    "## print formatting"
   ]
  },
  {
   "cell_type": "markdown",
   "id": "dcdf4abf",
   "metadata": {},
   "source": [
    "(1) % string (2) format 함수(3) fstring"
   ]
  },
  {
   "cell_type": "code",
   "execution_count": 152,
   "id": "29077bbd",
   "metadata": {},
   "outputs": [
    {
     "name": "stdout",
     "output_type": "stream",
     "text": [
      "1 2 3\n",
      "a b c\n",
      "1 2 3\n",
      "a b c\n",
      "value is [1.1, 2, 3]\n",
      "one two\n",
      "one two\n",
      "1 2\n",
      "1 2\n",
      "I eat 3 apples.\n",
      "I eat five apples.\n",
      "I ate 3 apples. I was sick for three days.\n",
      "Product: Apple, Price per unit: 5.243000.\n"
     ]
    }
   ],
   "source": [
    "value=[1.1,2,3]\n",
    "print(1,2,3)\n",
    "print(\"a\" + \" \" + \"b\" + \" \" + \"c\")\n",
    "print(\"%d %d %d\" % (1,2,3))\n",
    "print(\"{} {} {}\".format(\"a\",\"b\",\"c\"))\n",
    "print(f\"value is {value}\")\n",
    "\n",
    "#일반적으로%-format 과str.format() 함수를사용함\n",
    "print('%s %s' % ('one', 'two'))\n",
    "print('{} {}'.format('one', 'two'))\n",
    "print('%d %d' % (1, 2))\n",
    "print('{} {}'.format(1, 2))\n",
    "\n",
    "print(\"I eat %d apples.\" % 3)\n",
    "print(\"I eat %s apples.\" % \"five\")\n",
    "number = 3; day=\"three\"\n",
    "print(\"I ate %d apples. I was sick for %s days.\"% (number, day))\n",
    "print(\"Product: %s, Price per unit: %f.\" % (\"Apple\", 5.243))\n",
    "\n"
   ]
  },
  {
   "cell_type": "code",
   "execution_count": 153,
   "id": "8f6013e7",
   "metadata": {},
   "outputs": [
    {
     "name": "stdout",
     "output_type": "stream",
     "text": [
      "I’m 36 years old.\n",
      "My name is Sungchul Choi and 36 years old.\n",
      "Product: Apple, Price per unit: 5.243.\n"
     ]
    }
   ],
   "source": [
    "age = 36; name='Sungchul Choi'\n",
    "print(\"I’m {0} years old.\".format(age))\n",
    "print(\"My name is {0} and {1} years old.\".format(name,age))\n",
    "print(\"Product: {0}, Price per unit: {1:.3f}.\".format(\"Apple\", 5.243))\n"
   ]
  },
  {
   "cell_type": "code",
   "execution_count": 154,
   "id": "43416b37",
   "metadata": {},
   "outputs": [
    {
     "name": "stdout",
     "output_type": "stream",
     "text": [
      "Product: Apple, Price per unit: 5.24300.\n",
      "Product: Apple, Price per unit: 5.24300.\n",
      "Product:      Apple, Price per unit:      5.243.\n",
      "Product:      Apple, Price per unit:      5.243.\n"
     ]
    }
   ],
   "source": [
    "#여유공간을지정하여글자배열+ 소수점자릿수를맞추기\n",
    "print(\"Product: %5s, Price per unit: %.5f.\" % (\"Apple\", 5.243))\n",
    "print(\"Product: {0:5s}, Price per unit: {1:.5f}.\".format(\"Apple\", 5.243))\n",
    "print(\"Product: %10s, Price per unit: %10.3f.\" % (\"Apple\", 5.243))\n",
    "print(\"Product: {0:>10s}, Price per unit: {1:10.3f}.\".format(\"Apple\", 5.243))\n"
   ]
  },
  {
   "cell_type": "code",
   "execution_count": null,
   "id": "1891bf72",
   "metadata": {},
   "outputs": [],
   "source": [
    "# python 3.6 이후, PEP498에근거한formatting 기법\n",
    "name = \"Sungchul\"\n",
    "age = 39\n",
    "print(f\"Hello, {name}. You are {age}.\")\n",
    "print(f'{name:20}')\n",
    "print(f'{name:>20}')\n",
    "print(f'{name:*<20}')\n",
    "print(f'{name:*>20}')\n",
    "print(f'{name:*^20}')\n",
    "number = 3.141592653589793\n",
    "print(f'{number:.2f}')"
   ]
  },
  {
   "cell_type": "markdown",
   "id": "878bff3f",
   "metadata": {},
   "source": [
    "## 삼항 연산자(Ternary operators)"
   ]
  },
  {
   "cell_type": "code",
   "execution_count": 157,
   "id": "6ae3002a",
   "metadata": {},
   "outputs": [
    {
     "name": "stdout",
     "output_type": "stream",
     "text": [
      "True\n"
     ]
    }
   ],
   "source": [
    "value = 12\n",
    "is_even = True if value % 2 == 0 else False\n",
    "print(is_even)"
   ]
  },
  {
   "cell_type": "markdown",
   "id": "90990ae1",
   "metadata": {},
   "source": [
    "## function type hints"
   ]
  },
  {
   "cell_type": "markdown",
   "id": "0fbdcb32",
   "metadata": {},
   "source": [
    "1. 사용자에게 인터페이스를 명확히 알려줄 수 있다.\n",
    "2. 함수의 문서화시 parameter에 대한 정보를 명확히 알 수 있다.\n",
    "3. mypy 또는 IDE, linter 등을 통해 코드의 발생 가능한 오류를 사전에 확인\n",
    "4. 시스템 전체적인 안정성을 확보할 수 있다.\n"
   ]
  },
  {
   "cell_type": "markdown",
   "id": "4ac5257b",
   "metadata": {},
   "source": [
    "def do_function(var_name: var_type) -> return_type:<br>\n",
    "    pass\n"
   ]
  },
  {
   "cell_type": "code",
   "execution_count": 161,
   "id": "c46f9a4f",
   "metadata": {},
   "outputs": [],
   "source": [
    "def type_hint_example(name: str) -> str:\n",
    "    return f\"Hello, {name}\"\n"
   ]
  },
  {
   "cell_type": "markdown",
   "id": "d177f923",
   "metadata": {},
   "source": [
    "## function docstring"
   ]
  },
  {
   "cell_type": "markdown",
   "id": "aa21f569",
   "metadata": {},
   "source": [
    "- 파이썬 함수에 대한 상세스펙을 사전에 작성 -> 함수 사용자의 이행도 UP\n",
    "- 세개의 따옴표로 docstring 영역 표시(함수명 아래)"
   ]
  },
  {
   "cell_type": "markdown",
   "id": "d1543eb8",
   "metadata": {},
   "source": [
    "## 파이썬 기본 데이터 구조\n",
    "### - 스택과 큐(stack & queue with list)\n",
    "### - 튜플과 집합(tuple & set) \n",
    "### - 사전(dictionary)\n",
    "### - Collection 모듈"
   ]
  },
  {
   "cell_type": "markdown",
   "id": "06f5e198",
   "metadata": {},
   "source": [
    "## stack \n",
    "\n",
    "### - 나중에 넣은 데이터를 먼저 반환하도록 설계된 메모리 구조\n",
    "### - Last In First Out (LIFO)\n",
    "### - Data의 입력을 Push, 출력을 Pop이라고 함\n",
    "### - 리스트를 사용하여 스택 구조를 구현 가능\n",
    "### - push를 append(), pop을 pop()를 사용"
   ]
  },
  {
   "cell_type": "markdown",
   "id": "a3b6b3b1",
   "metadata": {},
   "source": [
    "## 큐 (Queue)\n",
    "### - 먼저 넣은 데이터를 먼저 반환하도록 설계된 메모리 구조\n",
    "### - First In First Out (FIFO)\n",
    "### - Stack과 반대되는 개념\n",
    "### -파이썬은 리스트를 사용하여 큐 구조를 활용\n",
    "### -put를 append(), get을 pop(0)를 사용"
   ]
  },
  {
   "cell_type": "markdown",
   "id": "4aded56a",
   "metadata": {},
   "source": [
    "## deque\n",
    "### -Stack과 Queue 를 지원하는 모듈\n",
    "### - List에 비해 효율적인=빠른 자료 저장 방식을 지원함\n",
    "### - rotate, reverse등 Linked List의 특성을 지원함\n",
    "### - 기존 list 형태의 함수를 모두 지원함\n",
    "### - rotate, reverse등 Linked List의 특성을 지원함\n",
    "### - 기존 list 형태의 함수를 모두 지원함\n",
    "### - deque 는 기존 list보다 효율적인 자료구조를 제공\n",
    "### - 효율적 메모리 구조로 처리 속도 향상"
   ]
  },
  {
   "cell_type": "code",
   "execution_count": 169,
   "id": "2b6e67be",
   "metadata": {
    "scrolled": true
   },
   "outputs": [
    {
     "name": "stdout",
     "output_type": "stream",
     "text": [
      "deque([0])\n",
      "deque([10, 0])\n",
      "deque([10, 0, 1])\n",
      "deque([10, 10, 0, 1])\n",
      "deque([10, 10, 0, 1, 2])\n",
      "deque([10, 10, 10, 0, 1, 2])\n",
      "deque([10, 10, 10, 0, 1, 2, 3])\n",
      "deque([10, 10, 10, 10, 0, 1, 2, 3])\n",
      "deque([10, 10, 10, 10, 0, 1, 2, 3, 4])\n",
      "deque([10, 10, 10, 10, 10, 0, 1, 2, 3, 4])\n"
     ]
    }
   ],
   "source": [
    "from collections import deque\n",
    "deque_list = deque()\n",
    "for i in range(5):\n",
    "    deque_list.append(i)\n",
    "    print(deque_list)\n",
    "    deque_list.appendleft(10)\n",
    "    print(deque_list)"
   ]
  },
  {
   "cell_type": "code",
   "execution_count": 171,
   "id": "90444684",
   "metadata": {
    "scrolled": true
   },
   "outputs": [
    {
     "name": "stdout",
     "output_type": "stream",
     "text": [
      "deque([3, 4, 10, 10, 10, 10, 10, 0, 1, 2])\n",
      "deque([1, 2, 3, 4, 10, 10, 10, 10, 10, 0])\n",
      "deque([0, 10, 10, 10, 10, 10, 4, 3, 2, 1])\n",
      "deque([1, 2, 3, 4, 10, 10, 10, 10, 10, 0, 5, 6, 7])\n",
      "deque([7, 6, 5, 1, 2, 3, 4, 10, 10, 10, 10, 10, 0, 5, 6, 7])\n"
     ]
    }
   ],
   "source": [
    "deque_list.rotate(2)\n",
    "print(deque_list)\n",
    "deque_list.rotate(2)\n",
    "print(deque_list)\n",
    "print(deque(reversed(deque_list)))\n",
    "deque_list.extend([5, 6, 7])\n",
    "print(deque_list)\n",
    "deque_list.extendleft([5, 6, 7])\n",
    "print(deque_list)"
   ]
  },
  {
   "cell_type": "markdown",
   "id": "9398cf3b",
   "metadata": {},
   "source": [
    "## defaultdict"
   ]
  },
  {
   "cell_type": "markdown",
   "id": "b745df2d",
   "metadata": {},
   "source": [
    "## Dict type의 값에 기본 값을 지정, 신규값 생성시 사용하는 방법"
   ]
  },
  {
   "cell_type": "code",
   "execution_count": 175,
   "id": "37d564e7",
   "metadata": {},
   "outputs": [
    {
     "name": "stdout",
     "output_type": "stream",
     "text": [
      "0\n"
     ]
    }
   ],
   "source": [
    "from collections import defaultdict\n",
    "d = defaultdict(object) # Default dictionary를 생성\n",
    "d = defaultdict(lambda: 0) # Default 값을 0으로 설정합\n",
    "print(d[\"first\"])"
   ]
  },
  {
   "cell_type": "markdown",
   "id": "9a6c8fd6",
   "metadata": {},
   "source": [
    "## Pythonic code"
   ]
  },
  {
   "cell_type": "markdown",
   "id": "ba9ab039",
   "metadata": {},
   "source": [
    "### - split & join\n",
    "### - list comprehension\n",
    "### - enumerate & zip\n",
    "### - lambda & map & reduce\n",
    "### - generator \n",
    "### - asterisk"
   ]
  },
  {
   "cell_type": "markdown",
   "id": "11895da2",
   "metadata": {},
   "source": [
    "### join\n",
    " String으로 구성된 list를 합쳐 하나의 string으로 반환"
   ]
  },
  {
   "cell_type": "code",
   "execution_count": 179,
   "id": "59c6f3c1",
   "metadata": {},
   "outputs": [
    {
     "data": {
      "text/plain": [
       "'appledbannatomato'"
      ]
     },
     "execution_count": 179,
     "metadata": {},
     "output_type": "execute_result"
    }
   ],
   "source": [
    "a=['appled','banna','tomato']\n",
    "\n",
    "join_a=''.join(a)\n",
    "join_a"
   ]
  },
  {
   "cell_type": "code",
   "execution_count": 180,
   "id": "8bdf3f96",
   "metadata": {},
   "outputs": [],
   "source": [
    "b=['appled','banana','test']"
   ]
  },
  {
   "cell_type": "markdown",
   "id": "33681754",
   "metadata": {},
   "source": [
    "## list comprehension"
   ]
  },
  {
   "cell_type": "markdown",
   "id": "6261c39f",
   "metadata": {},
   "source": [
    "### -기존 List 사용하여 간단히 다른 List를 만드는 기법\n",
    "### - 포괄적인 List, 포함되는 리스트라는 의미로 사용됨\n",
    "### - 파이썬에서 가장 많이 사용되는 기법 중 하나\n",
    "### - 일반적으로 for + append 보다 속도가 빠름\n"
   ]
  },
  {
   "cell_type": "code",
   "execution_count": 9,
   "id": "55181622",
   "metadata": {},
   "outputs": [
    {
     "data": {
      "text/plain": [
       "[0, 1, 2, 3, 4, 5, 6, 7, 8, 9]"
      ]
     },
     "execution_count": 9,
     "metadata": {},
     "output_type": "execute_result"
    }
   ],
   "source": [
    "result=[i for i in range(10)]\n",
    "result"
   ]
  },
  {
   "cell_type": "code",
   "execution_count": 12,
   "id": "710d42f4",
   "metadata": {},
   "outputs": [
    {
     "data": {
      "text/plain": [
       "[0, 2, 4, 6, 8]"
      ]
     },
     "execution_count": 12,
     "metadata": {},
     "output_type": "execute_result"
    }
   ],
   "source": [
    "result1=[i for i in range(10) if i%2==0]\n",
    "result1"
   ]
  },
  {
   "cell_type": "code",
   "execution_count": 15,
   "id": "08422dfa",
   "metadata": {},
   "outputs": [],
   "source": [
    "#[i for i in range(50)]"
   ]
  },
  {
   "cell_type": "code",
   "execution_count": 16,
   "id": "182351fe",
   "metadata": {},
   "outputs": [],
   "source": [
    "result4=[i for i in range(10) if i%3==0]"
   ]
  },
  {
   "cell_type": "code",
   "execution_count": 17,
   "id": "31ef09df",
   "metadata": {},
   "outputs": [
    {
     "data": {
      "text/plain": [
       "[0, 3, 6, 9]"
      ]
     },
     "execution_count": 17,
     "metadata": {},
     "output_type": "execute_result"
    }
   ],
   "source": [
    "result4"
   ]
  },
  {
   "cell_type": "code",
   "execution_count": 18,
   "id": "2981b6a0",
   "metadata": {},
   "outputs": [
    {
     "data": {
      "text/plain": [
       "['HW',\n",
       " 'HO',\n",
       " 'HR',\n",
       " 'HL',\n",
       " 'HD',\n",
       " 'EW',\n",
       " 'EO',\n",
       " 'ER',\n",
       " 'EL',\n",
       " 'ED',\n",
       " 'LW',\n",
       " 'LO',\n",
       " 'LR',\n",
       " 'LL',\n",
       " 'LD',\n",
       " 'LW',\n",
       " 'LO',\n",
       " 'LR',\n",
       " 'LL',\n",
       " 'LD',\n",
       " 'OW',\n",
       " 'OO',\n",
       " 'OR',\n",
       " 'OL',\n",
       " 'OD']"
      ]
     },
     "execution_count": 18,
     "metadata": {},
     "output_type": "execute_result"
    }
   ],
   "source": [
    "first='HELLO'\n",
    "second='WORLD'\n",
    "\n",
    "test=[i+j for i in first for j in second]\n",
    "test"
   ]
  },
  {
   "cell_type": "code",
   "execution_count": 27,
   "id": "ae82c3eb",
   "metadata": {},
   "outputs": [
    {
     "data": {
      "text/plain": [
       "['af', 'az', 'a', 'bf', 'bz', 'ba', 'cf', 'cz', 'ca']"
      ]
     },
     "execution_count": 27,
     "metadata": {},
     "output_type": "execute_result"
    }
   ],
   "source": [
    "a=['a','b','c']\n",
    "b=['f','z','a']\n",
    "\n",
    "test1=[i+j if i!=j  else i for i in a for j in b]\n",
    "test1\n",
    "#rint(len(test1))"
   ]
  },
  {
   "cell_type": "code",
   "execution_count": 35,
   "id": "67f11942",
   "metadata": {},
   "outputs": [
    {
     "data": {
      "text/plain": [
       "[['the', 'THE', 3],\n",
       " ['quick', 'QUICK', 5],\n",
       " ['brown', 'BROWN', 5],\n",
       " ['fox', 'FOX', 3],\n",
       " ['jumps', 'JUMPS', 5],\n",
       " ['over', 'OVER', 4],\n",
       " ['the', 'THE', 3],\n",
       " ['lazy', 'LAZY', 4],\n",
       " ['dog', 'DOG', 3]]"
      ]
     },
     "execution_count": 35,
     "metadata": {},
     "output_type": "execute_result"
    }
   ],
   "source": [
    "setence='The quick brown fox jumps over the lazy dog'.split()\n",
    "\n",
    "\n",
    "[[i.lower(),i.upper(),len(i)] for i in setence]"
   ]
  },
  {
   "cell_type": "code",
   "execution_count": 36,
   "id": "25ccb3d0",
   "metadata": {},
   "outputs": [
    {
     "data": {
      "text/plain": [
       "[['the', 'THE', 3],\n",
       " ['quick', 'QUICK', 5],\n",
       " ['brown', 'BROWN', 5],\n",
       " ['fox', 'FOX', 3],\n",
       " ['jumps', 'JUMPS', 5],\n",
       " ['the', 'THE', 3],\n",
       " ['lazy', 'LAZY', 4],\n",
       " ['dogs', 'DOGS', 4]]"
      ]
     },
     "execution_count": 36,
     "metadata": {},
     "output_type": "execute_result"
    }
   ],
   "source": [
    "setences='the quick brown Fox jumps The lazy dogs'.split()\n",
    "\n",
    "[[setence.lower(),setence.upper(),len(setence)] for setence in setences]"
   ]
  },
  {
   "cell_type": "code",
   "execution_count": 42,
   "id": "34eb0cd0",
   "metadata": {},
   "outputs": [
    {
     "data": {
      "text/plain": [
       "[[(6, 0), (6, 1), (6, 2), (6, 3), (6, 4)],\n",
       " [(7, 0), (7, 1), (7, 2), (7, 3), (7, 4)],\n",
       " [(8, 0), (8, 1), (8, 2), (8, 3), (8, 4)],\n",
       " [(9, 0), (9, 1), (9, 2), (9, 3), (9, 4)]]"
      ]
     },
     "execution_count": 42,
     "metadata": {},
     "output_type": "execute_result"
    }
   ],
   "source": [
    "[[(j,i) for i in range(5)] for j in range(6,10)]"
   ]
  },
  {
   "cell_type": "markdown",
   "id": "6743b9fc",
   "metadata": {},
   "source": [
    "### enumerate"
   ]
  },
  {
   "cell_type": "code",
   "execution_count": 46,
   "id": "573dbf6e",
   "metadata": {},
   "outputs": [],
   "source": [
    "test='hello my name IS HONG KYEONG hello hi'\n",
    "\n",
    "text=list(set(test.split()))"
   ]
  },
  {
   "cell_type": "code",
   "execution_count": 50,
   "id": "c0eefbd8",
   "metadata": {},
   "outputs": [
    {
     "data": {
      "text/plain": [
       "{'KYEONG': 0, 'my': 1, 'HONG': 2, 'IS': 3, 'name': 4, 'hello': 5, 'hi': 6}"
      ]
     },
     "execution_count": 50,
     "metadata": {},
     "output_type": "execute_result"
    }
   ],
   "source": [
    "{v : i for i,v in enumerate(text)}"
   ]
  },
  {
   "cell_type": "code",
   "execution_count": 56,
   "id": "da937422",
   "metadata": {},
   "outputs": [
    {
     "data": {
      "text/plain": [
       "[(0, (30, 30, 30)), (1, (40, 40, 40)), (2, (50, 50, 50))]"
      ]
     },
     "execution_count": 56,
     "metadata": {},
     "output_type": "execute_result"
    }
   ],
   "source": [
    "kor=[30,40,50]\n",
    "eng=[30,40,50]\n",
    "math=[30,40,50]\n",
    "\n",
    "[(i,v) for i,v in enumerate(zip(kor,eng,math))]"
   ]
  },
  {
   "cell_type": "markdown",
   "id": "7e02f86b",
   "metadata": {},
   "source": [
    "### lambda"
   ]
  },
  {
   "cell_type": "code",
   "execution_count": 57,
   "id": "1374d523",
   "metadata": {},
   "outputs": [
    {
     "data": {
      "text/plain": [
       "30"
      ]
     },
     "execution_count": 57,
     "metadata": {},
     "output_type": "execute_result"
    }
   ],
   "source": [
    "sum_function=lambda x ,y : x+ y\n",
    "sum_function(10,20)"
   ]
  },
  {
   "cell_type": "code",
   "execution_count": 58,
   "id": "c4a6140d",
   "metadata": {},
   "outputs": [
    {
     "data": {
      "text/plain": [
       "30"
      ]
     },
     "execution_count": 58,
     "metadata": {},
     "output_type": "execute_result"
    }
   ],
   "source": [
    "(lambda x,y : x+y)(10,20)"
   ]
  },
  {
   "cell_type": "code",
   "execution_count": 66,
   "id": "c15a6f50",
   "metadata": {},
   "outputs": [
    {
     "data": {
      "text/plain": [
       "'hong-kyoeng'"
      ]
     },
     "execution_count": 66,
     "metadata": {},
     "output_type": "execute_result"
    }
   ],
   "source": [
    "(lambda x : '-'.join(x.split(' ')))('hong kyoeng')"
   ]
  },
  {
   "cell_type": "code",
   "execution_count": 71,
   "id": "3c63ce83",
   "metadata": {},
   "outputs": [
    {
     "name": "stdout",
     "output_type": "stream",
     "text": [
      "1\n",
      "4\n",
      "9\n",
      "16\n",
      "25\n",
      "36\n",
      "49\n",
      "64\n",
      "81\n"
     ]
    }
   ],
   "source": [
    "test=(lambda x : x **2)\n",
    "for i in range(10):\n",
    "    print(test(i))"
   ]
  },
  {
   "cell_type": "code",
   "execution_count": 73,
   "id": "a56e5aa5",
   "metadata": {},
   "outputs": [
    {
     "data": {
      "text/plain": [
       "[1, 4, 9, 16, 25]"
      ]
     },
     "execution_count": 73,
     "metadata": {},
     "output_type": "execute_result"
    }
   ],
   "source": [
    "ex=[1,2,3,4,5]\n",
    "list_x=(lambda x : x **2)\n",
    "list(map(list_x,ex))"
   ]
  },
  {
   "cell_type": "code",
   "execution_count": 76,
   "id": "e913f438",
   "metadata": {},
   "outputs": [
    {
     "data": {
      "text/plain": [
       "15"
      ]
     },
     "execution_count": 76,
     "metadata": {},
     "output_type": "execute_result"
    }
   ],
   "source": [
    "from functools import reduce\n",
    "reduce(lambda x,y : x+y ,[1,2,3,4,5])"
   ]
  },
  {
   "cell_type": "code",
   "execution_count": 91,
   "id": "b0b329da",
   "metadata": {},
   "outputs": [],
   "source": [
    "def generate_list(value):\n",
    "    result=[]\n",
    "    for i in range(value):\n",
    "        result.append(i)\n",
    "    print(result)"
   ]
  },
  {
   "cell_type": "code",
   "execution_count": 92,
   "id": "7abcbc16",
   "metadata": {},
   "outputs": [
    {
     "name": "stdout",
     "output_type": "stream",
     "text": [
      "[0, 1, 2, 3, 4, 5, 6, 7, 8, 9, 10, 11, 12, 13, 14, 15, 16, 17, 18, 19, 20, 21, 22, 23, 24, 25, 26, 27, 28, 29, 30, 31, 32, 33, 34, 35, 36, 37, 38, 39, 40, 41, 42, 43, 44, 45, 46, 47, 48, 49]\n"
     ]
    }
   ],
   "source": [
    "generate_list(50)"
   ]
  },
  {
   "cell_type": "code",
   "execution_count": 93,
   "id": "7ac5d454",
   "metadata": {},
   "outputs": [
    {
     "data": {
      "text/plain": [
       "112"
      ]
     },
     "execution_count": 93,
     "metadata": {},
     "output_type": "execute_result"
    }
   ],
   "source": [
    "import sys\n",
    "sys.getsizeof(result)"
   ]
  },
  {
   "cell_type": "markdown",
   "id": "407d85de",
   "metadata": {},
   "source": [
    "## genrate\n",
    "### -iterable object를 특수한 형태로 사용해주는 함수\n",
    "### - element가 사용되는 시점에 값을 메모리에 반환\n",
    "#### : yield를 사용해 한번에 하나의 element만 반환함"
   ]
  },
  {
   "cell_type": "code",
   "execution_count": 94,
   "id": "f0e951ba",
   "metadata": {},
   "outputs": [],
   "source": [
    "def generate_list(value):\n",
    "    result=[]\n",
    "    for i in range(value):\n",
    "        yield i\n",
    "        "
   ]
  },
  {
   "cell_type": "code",
   "execution_count": 95,
   "id": "68ce772d",
   "metadata": {},
   "outputs": [
    {
     "data": {
      "text/plain": [
       "<generator object generate_list at 0x00000206A5C97820>"
      ]
     },
     "execution_count": 95,
     "metadata": {},
     "output_type": "execute_result"
    }
   ],
   "source": [
    "generate_list(50)"
   ]
  },
  {
   "cell_type": "code",
   "execution_count": 96,
   "id": "5e759fde",
   "metadata": {
    "collapsed": true
   },
   "outputs": [
    {
     "name": "stdout",
     "output_type": "stream",
     "text": [
      "0\n",
      "1\n",
      "2\n",
      "3\n",
      "4\n",
      "5\n",
      "6\n",
      "7\n",
      "8\n",
      "9\n",
      "10\n",
      "11\n",
      "12\n",
      "13\n",
      "14\n",
      "15\n",
      "16\n",
      "17\n",
      "18\n",
      "19\n",
      "20\n",
      "21\n",
      "22\n",
      "23\n",
      "24\n",
      "25\n",
      "26\n",
      "27\n",
      "28\n",
      "29\n",
      "30\n",
      "31\n",
      "32\n",
      "33\n",
      "34\n",
      "35\n",
      "36\n",
      "37\n",
      "38\n",
      "39\n",
      "40\n",
      "41\n",
      "42\n",
      "43\n",
      "44\n",
      "45\n",
      "46\n",
      "47\n",
      "48\n",
      "49\n"
     ]
    }
   ],
   "source": [
    "for i in generate_list(50):\n",
    "    print(i)"
   ]
  },
  {
   "cell_type": "code",
   "execution_count": 97,
   "id": "b01826cb",
   "metadata": {},
   "outputs": [
    {
     "data": {
      "text/plain": [
       "112"
      ]
     },
     "execution_count": 97,
     "metadata": {},
     "output_type": "execute_result"
    }
   ],
   "source": [
    "result=generate_list(50)\n",
    "sys.getsizeof(result)"
   ]
  },
  {
   "cell_type": "markdown",
   "id": "b5545f6d",
   "metadata": {},
   "source": [
    "## Keyword arguments\n",
    "### 함수에 입력되는 parameter의 변수명을 사용, arguments를 넘김\n"
   ]
  },
  {
   "cell_type": "code",
   "execution_count": 108,
   "id": "339f1c87",
   "metadata": {},
   "outputs": [],
   "source": [
    "def keyword_argument(name_keyword,age_argument):\n",
    "    print('{0} \\t {1} hell'.format(name_keyword,age_argument))\n"
   ]
  },
  {
   "cell_type": "code",
   "execution_count": 110,
   "id": "e07e85ee",
   "metadata": {},
   "outputs": [
    {
     "name": "stdout",
     "output_type": "stream",
     "text": [
      "hello \t 5 hell\n"
     ]
    }
   ],
   "source": [
    "keyword_argument('hello','5')\n",
    "# print(keyword_argument(age_argument=6,name_keyword='hi'))"
   ]
  },
  {
   "cell_type": "code",
   "execution_count": 112,
   "id": "ded9138a",
   "metadata": {},
   "outputs": [
    {
     "name": "stdout",
     "output_type": "stream",
     "text": [
      "(3, 4, 5)\n",
      "15\n"
     ]
    }
   ],
   "source": [
    "def valiable_lenth(a,b,*args):\n",
    "    print(args)\n",
    "    print(a+b+sum(args))\n",
    "    \n",
    "valiable_lenth(1,2,3,4,5)"
   ]
  },
  {
   "cell_type": "code",
   "execution_count": 185,
   "id": "dccf9703",
   "metadata": {},
   "outputs": [
    {
     "name": "stdout",
     "output_type": "stream",
     "text": [
      "10\n",
      "40\n",
      "<class 'tuple'> (50, 60)\n",
      "<class 'dict'> {'one': 1, 'two': 2, 'thrid': '3'}\n"
     ]
    }
   ],
   "source": [
    "#parameter의 기본 값을 사용, 입력하지 않을 경우 기본값 출력\n",
    "def valiable_lenths(a,b=20,*args,**kwargs):\n",
    "    print(a)\n",
    "    print(b)\n",
    "    print(type(args),args)\n",
    "    print(type(kwargs),kwargs)\n",
    "\n",
    "valiable_lenths(10,40,50,60,one=1,two=2,thrid='3')"
   ]
  },
  {
   "cell_type": "code",
   "execution_count": 116,
   "id": "9686fb67",
   "metadata": {},
   "outputs": [
    {
     "name": "stdout",
     "output_type": "stream",
     "text": [
      "[1, 2] [3, 4] [5, 6]\n"
     ]
    }
   ],
   "source": [
    "a,b,c=([1,2],[3,4],[5,6])\n",
    "print(a,b,c)"
   ]
  },
  {
   "cell_type": "markdown",
   "id": "61bb3a59",
   "metadata": {},
   "source": [
    "## asterisk\n",
    "### - 흔히 알고 있는 * 를 의미함\n",
    "### - 단순 곱셈, 제곱연산, 가변 인자 활용 등 다양하게 사용"
   ]
  },
  {
   "cell_type": "markdown",
   "id": "8554f0e7",
   "metadata": {},
   "source": [
    "## asterisk – unpacking a container\n",
    "### - tuple, dict 등 자료형에 들어가 있는 값을 unpacking\n",
    "### - 함수의 입력값, zip 등에 유용하게 사용가능"
   ]
  },
  {
   "cell_type": "code",
   "execution_count": 119,
   "id": "befc8a1e",
   "metadata": {},
   "outputs": [
    {
     "name": "stdout",
     "output_type": "stream",
     "text": [
      "[1, 2] [3, 4] [5, 6]\n"
     ]
    }
   ],
   "source": [
    "data=([1,2],[3,4],[5,6])\n",
    "print(*data)"
   ]
  },
  {
   "cell_type": "code",
   "execution_count": 142,
   "id": "43683d1a",
   "metadata": {},
   "outputs": [],
   "source": [
    "data=([1,2],[3,4],[5,6],[7,8])\n",
    "def test(x):\n",
    "    for i in zip(*x):\n",
    "        print(i)"
   ]
  },
  {
   "cell_type": "code",
   "execution_count": 143,
   "id": "eda7e9c2",
   "metadata": {},
   "outputs": [
    {
     "name": "stdout",
     "output_type": "stream",
     "text": [
      "(1, 3, 5, 7)\n",
      "(2, 4, 6, 8)\n"
     ]
    }
   ],
   "source": [
    "test(data)"
   ]
  }
 ],
 "metadata": {
  "kernelspec": {
   "display_name": "Python 3 (ipykernel)",
   "language": "python",
   "name": "python3"
  },
  "language_info": {
   "codemirror_mode": {
    "name": "ipython",
    "version": 3
   },
   "file_extension": ".py",
   "mimetype": "text/x-python",
   "name": "python",
   "nbconvert_exporter": "python",
   "pygments_lexer": "ipython3",
   "version": "3.9.12"
  }
 },
 "nbformat": 4,
 "nbformat_minor": 5
}
